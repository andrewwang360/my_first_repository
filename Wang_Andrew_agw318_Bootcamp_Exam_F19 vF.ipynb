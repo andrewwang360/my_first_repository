{
 "cells": [
  {
   "cell_type": "markdown",
   "metadata": {},
   "source": [
    "# Data Bootcamp \n",
    "\n",
    "NYU Stern School of Business | October 2019\n"
   ]
  },
  {
   "cell_type": "markdown",
   "metadata": {},
   "source": [
    "## Import packages   \n",
    "\n",
    "Run this code.  Really.  "
   ]
  },
  {
   "cell_type": "code",
   "execution_count": 3,
   "metadata": {},
   "outputs": [],
   "source": [
    "# import packages \n",
    "import pandas as pd                   # data management\n",
    "import matplotlib.pyplot as plt       # graphics \n",
    "\n",
    "# IPython command, puts plots in notebook \n",
    "%matplotlib inline"
   ]
  },
  {
   "cell_type": "markdown",
   "metadata": {},
   "source": [
    "## Question 0\n",
    "\n",
    "<!-- This question is so we can grade the exams, but also tests basic skills in working with notebooks -->\n",
    "\n",
    "* Change the file name by adding `YourLastName_YourFirstName_YourNetID_` to it in the textbox at the top.  \n",
    "* Add a markdown cell directly *below* this one that includes your name in bold, your student number, and your email address.  \n",
    "\n",
    "(5 points)"
   ]
  },
  {
   "cell_type": "markdown",
   "metadata": {},
   "source": [
    "**Andrew Wang**\n",
    "\n",
    "Student number: N15045120\n",
    "\n",
    "Email address: agw318@nyu.edu"
   ]
  },
  {
   "cell_type": "markdown",
   "metadata": {},
   "source": [
    "**My Name**\n",
    "\n",
    "Student number: N1234567\n",
    "\n",
    "email address: me@domain.com"
   ]
  },
  {
   "cell_type": "markdown",
   "metadata": {},
   "source": [
    "## Question 1 \n",
    "\n",
    "For each part (a)-(i), describe the **type** and **value** of the variable with the corresponding name:\n",
    "\n",
    "(a) `a = [{'This':\"that\"}, ('not'), 'apple', False, 'dictionary']`\n",
    "\n",
    "(b) `b = a[-3].upper()`\n",
    "\n",
    "(c) `c = {1: 'ZYX', 2: ['Knick'], 3: {4:'Knack'}}` \n",
    "\n",
    "(d) `h = 'aaa'*3`\n",
    "\n",
    "(e) `i = (1 != (4-3))`   # parens not needed, but they make code more understandable\n",
    "\n",
    "(10 points) "
   ]
  },
  {
   "cell_type": "code",
   "execution_count": 22,
   "metadata": {},
   "outputs": [
    {
     "name": "stdout",
     "output_type": "stream",
     "text": [
      "False\n"
     ]
    }
   ],
   "source": [
    "#experiment in this box\n",
    "i = (1 != (4-3))\n",
    "print(i)"
   ]
  },
  {
   "cell_type": "markdown",
   "metadata": {},
   "source": [
    "(a) Type = list, value = [{'This':\"that\"}, ('not'), 'apple', False, 'dictionary']\n",
    "\n",
    "(b) Type = String, value = 'APPLE'\n",
    "\n",
    "(c) Type = dictionary, value = {1: 'ZYX', 2: ['Knick'], 3: {4:'Knack'}}\n",
    "\n",
    "(d) Type = String, value = aaaaaaaaa\n",
    "\n",
    "(e) Type = Boolean, value = False"
   ]
  },
  {
   "cell_type": "markdown",
   "metadata": {},
   "source": [
    "## Question 2\n",
    "\n",
    "For question 2, we use the object `alphabet`:\n",
    "\n",
    "(a) Loop through `alphabet` and print each letter.\n",
    "\n",
    "(b) Loop through `alphabet` and print the uppercase version of letter the number of times that corresponds to its position in the alphabet (ex: A, BB, CCC, DDDD, ...)\n",
    "\n",
    "(c) Loop through `alphabet` and print each third letter (ex: c, f, i, l, ...)\n",
    "\n",
    "(d) Use a list comprehension to replicate `(c)`\n",
    "\n",
    "(20 points) "
   ]
  },
  {
   "cell_type": "code",
   "execution_count": 24,
   "metadata": {},
   "outputs": [],
   "source": [
    "alphabet = 'abcdefghijklmnopqrstuvwxyz'"
   ]
  },
  {
   "cell_type": "code",
   "execution_count": 26,
   "metadata": {},
   "outputs": [
    {
     "name": "stdout",
     "output_type": "stream",
     "text": [
      "a\n",
      "b\n",
      "c\n",
      "d\n",
      "e\n",
      "f\n",
      "g\n",
      "h\n",
      "i\n",
      "j\n",
      "k\n",
      "l\n",
      "m\n",
      "n\n",
      "o\n",
      "p\n",
      "q\n",
      "r\n",
      "s\n",
      "t\n",
      "u\n",
      "v\n",
      "w\n",
      "x\n",
      "y\n",
      "z\n"
     ]
    }
   ],
   "source": [
    "# Part A:\n",
    "\n",
    "for i in alphabet:\n",
    "    print(i)"
   ]
  },
  {
   "cell_type": "code",
   "execution_count": 45,
   "metadata": {},
   "outputs": [
    {
     "name": "stdout",
     "output_type": "stream",
     "text": [
      "A\n",
      "BB\n",
      "CCC\n",
      "DDDD\n",
      "EEEEE\n",
      "FFFFFF\n",
      "GGGGGGG\n",
      "HHHHHHHH\n",
      "IIIIIIIII\n",
      "JJJJJJJJJJ\n",
      "KKKKKKKKKKK\n",
      "LLLLLLLLLLLL\n",
      "MMMMMMMMMMMMM\n",
      "NNNNNNNNNNNNNN\n",
      "OOOOOOOOOOOOOOO\n",
      "PPPPPPPPPPPPPPPP\n",
      "QQQQQQQQQQQQQQQQQ\n",
      "RRRRRRRRRRRRRRRRRR\n",
      "SSSSSSSSSSSSSSSSSSS\n",
      "TTTTTTTTTTTTTTTTTTTT\n",
      "UUUUUUUUUUUUUUUUUUUUU\n",
      "VVVVVVVVVVVVVVVVVVVVVV\n",
      "WWWWWWWWWWWWWWWWWWWWWWW\n",
      "XXXXXXXXXXXXXXXXXXXXXXXX\n",
      "YYYYYYYYYYYYYYYYYYYYYYYYY\n",
      "ZZZZZZZZZZZZZZZZZZZZZZZZZZ\n"
     ]
    }
   ],
   "source": [
    "# Part B:\n",
    "\n",
    "repeat = 1\n",
    "for i in alphabet:\n",
    "    print(i.upper()*repeat)\n",
    "    repeat = repeat + 1"
   ]
  },
  {
   "cell_type": "code",
   "execution_count": 49,
   "metadata": {},
   "outputs": [
    {
     "name": "stdout",
     "output_type": "stream",
     "text": [
      "c\n",
      "f\n",
      "i\n",
      "l\n",
      "o\n",
      "r\n",
      "u\n",
      "x\n"
     ]
    }
   ],
   "source": [
    "# Part C:\n",
    "\n",
    "position = 0\n",
    "for i in alphabet:\n",
    "    position = position + 1\n",
    "    if position % 3 == 0:\n",
    "        print(i)"
   ]
  },
  {
   "cell_type": "code",
   "execution_count": 53,
   "metadata": {},
   "outputs": [
    {
     "ename": "TypeError",
     "evalue": "not all arguments converted during string formatting",
     "output_type": "error",
     "traceback": [
      "\u001b[1;31m---------------------------------------------------------------------------\u001b[0m",
      "\u001b[1;31mTypeError\u001b[0m                                 Traceback (most recent call last)",
      "\u001b[1;32m<ipython-input-53-29b4426e39b4>\u001b[0m in \u001b[0;36m<module>\u001b[1;34m\u001b[0m\n\u001b[0;32m      2\u001b[0m \u001b[1;33m\u001b[0m\u001b[0m\n\u001b[0;32m      3\u001b[0m \u001b[0mposition\u001b[0m \u001b[1;33m=\u001b[0m \u001b[1;36m0\u001b[0m\u001b[1;33m\u001b[0m\u001b[1;33m\u001b[0m\u001b[0m\n\u001b[1;32m----> 4\u001b[1;33m \u001b[1;33m[\u001b[0m\u001b[0mprint\u001b[0m\u001b[1;33m(\u001b[0m\u001b[0mi\u001b[0m\u001b[1;33m)\u001b[0m \u001b[1;32mfor\u001b[0m \u001b[0mi\u001b[0m \u001b[1;32min\u001b[0m \u001b[0malphabet\u001b[0m \u001b[1;32mif\u001b[0m \u001b[0mi\u001b[0m \u001b[1;33m%\u001b[0m \u001b[1;36m3\u001b[0m \u001b[1;33m==\u001b[0m\u001b[1;36m0\u001b[0m\u001b[1;33m]\u001b[0m\u001b[1;33m\u001b[0m\u001b[1;33m\u001b[0m\u001b[0m\n\u001b[0m",
      "\u001b[1;32m<ipython-input-53-29b4426e39b4>\u001b[0m in \u001b[0;36m<listcomp>\u001b[1;34m(.0)\u001b[0m\n\u001b[0;32m      2\u001b[0m \u001b[1;33m\u001b[0m\u001b[0m\n\u001b[0;32m      3\u001b[0m \u001b[0mposition\u001b[0m \u001b[1;33m=\u001b[0m \u001b[1;36m0\u001b[0m\u001b[1;33m\u001b[0m\u001b[1;33m\u001b[0m\u001b[0m\n\u001b[1;32m----> 4\u001b[1;33m \u001b[1;33m[\u001b[0m\u001b[0mprint\u001b[0m\u001b[1;33m(\u001b[0m\u001b[0mi\u001b[0m\u001b[1;33m)\u001b[0m \u001b[1;32mfor\u001b[0m \u001b[0mi\u001b[0m \u001b[1;32min\u001b[0m \u001b[0malphabet\u001b[0m \u001b[1;32mif\u001b[0m \u001b[0mi\u001b[0m \u001b[1;33m%\u001b[0m \u001b[1;36m3\u001b[0m \u001b[1;33m==\u001b[0m\u001b[1;36m0\u001b[0m\u001b[1;33m]\u001b[0m\u001b[1;33m\u001b[0m\u001b[1;33m\u001b[0m\u001b[0m\n\u001b[0m",
      "\u001b[1;31mTypeError\u001b[0m: not all arguments converted during string formatting"
     ]
    }
   ],
   "source": [
    "# Part D:\n",
    "\n",
    "position = 0\n",
    "[print(i) for i in alphabet if i % 3 ==0]"
   ]
  },
  {
   "cell_type": "markdown",
   "metadata": {},
   "source": [
    "## Question 3\n",
    "\n",
    "In this question, we explore the object `resume`.  \n",
    "\n",
    "(a) What type of object is `resume`? What are the keys? What are the types of each corresponding value?\n",
    "\n",
    "(b) Create a list called `companies` which contains all the companies listed in the `experience` section of the resume. Do this programmatically (not by copying and pasting). \n",
    "\n",
    "(c) Create a dataframe based on the `experience` section with company name as the row index, industry as a column, start date as a column, and end date as a column.\n",
    "\n",
    "(15 points)"
   ]
  },
  {
   "cell_type": "code",
   "execution_count": 27,
   "metadata": {},
   "outputs": [],
   "source": [
    "resume = {'experience': [{'company': 'Twin Lakes Global Advisors',\n",
    "   'title': 'Quantitative Strategy Consultant',\n",
    "   'summary': None,\n",
    "   'location': None,\n",
    "   'industry': 'Investment Management',\n",
    "   'startDate': '06-01-2012',\n",
    "   'endDate': '01-01-2015'},\n",
    "  {'company': 'IBM',\n",
    "   'title': 'Managing Data Scientist',\n",
    "   'summary': None,\n",
    "   'location': None,\n",
    "   'industry': 'Information Technology',\n",
    "   'startDate': '02-01-2015',\n",
    "   'endDate': '05-01-2018'},\n",
    "  {'company': 'NYU Stern School of Business',\n",
    "   'title': 'Adjunct Professor',\n",
    "   'summary': None,\n",
    "   'location': None,\n",
    "   'industry': 'Higher Education',\n",
    "   'startDate': '09-01-2019',\n",
    "   'endDate': None},\n",
    "  {'company': 'Revelio Labs',\n",
    "   'title': 'CEO & Co-Founder',\n",
    "   'summary': None,\n",
    "   'location': None,\n",
    "   'industry': 'Information Technology',\n",
    "   'startDate': '07-01-2018',\n",
    "   'endDate': None}],\n",
    " 'educations': [{'campus': 'CUNY Graduate Center',\n",
    "   'major': 'PhD',\n",
    "   'specialization': 'Economics',\n",
    "   'startDate': '09-01-2010',\n",
    "   'endDate': '02-15-2015'},\n",
    "  {'campus': 'Queens College',\n",
    "   'major': 'MS',\n",
    "   'specialization': 'Financial Risk Management',\n",
    "   'startDate': '09-01-2009',\n",
    "   'endDate': '06-01-2010'},\n",
    "  {'campus': 'Queens College',\n",
    "   'major': 'BS',\n",
    "   'specialization': 'Economics',\n",
    "   'startDate': '09-01-2006',\n",
    "   'endDate': '06-01-2009'}],\n",
    " 'firstName': 'Benjamin',\n",
    " 'lastName': 'Zweig',\n",
    " 'uniqueId': '24ZjNA05onemLItyYiybfw4ZM3TcQvn1bQ/jHgHWG0kf/bHrn17MPg==',\n",
    " 'location': 'New York, NY',\n",
    " 'summary': 'Economist, Data Scientist, Entrepreneur'}"
   ]
  },
  {
   "cell_type": "markdown",
   "metadata": {},
   "source": [
    "**Part A:**\n",
    "\n",
    "Type = dictionary\n",
    "Keys = 'experience', 'firstName', 'lastName', 'uniqueId', 'location', 'summary'\n",
    "\n",
    "For 'experience', the corresponding value is a list. For the other five keys, the corresponding values are strings."
   ]
  },
  {
   "cell_type": "code",
   "execution_count": 66,
   "metadata": {},
   "outputs": [
    {
     "name": "stdout",
     "output_type": "stream",
     "text": [
      "['Twin Lakes Global Advisors', 'IBM', 'NYU Stern School of Business', 'Revelio Labs']\n"
     ]
    }
   ],
   "source": [
    "# Part B:\n",
    "\n",
    "exp = resume['experience']\n",
    "\n",
    "companies = []\n",
    "for i in exp:\n",
    "    companies.append(i['company'])\n",
    "    \n",
    "print(companies)"
   ]
  },
  {
   "cell_type": "code",
   "execution_count": 72,
   "metadata": {},
   "outputs": [
    {
     "data": {
      "text/html": [
       "<div>\n",
       "<style scoped>\n",
       "    .dataframe tbody tr th:only-of-type {\n",
       "        vertical-align: middle;\n",
       "    }\n",
       "\n",
       "    .dataframe tbody tr th {\n",
       "        vertical-align: top;\n",
       "    }\n",
       "\n",
       "    .dataframe thead th {\n",
       "        text-align: right;\n",
       "    }\n",
       "</style>\n",
       "<table border=\"1\" class=\"dataframe\">\n",
       "  <thead>\n",
       "    <tr style=\"text-align: right;\">\n",
       "      <th></th>\n",
       "      <th>industry</th>\n",
       "      <th>startDate</th>\n",
       "      <th>endDate</th>\n",
       "    </tr>\n",
       "    <tr>\n",
       "      <th>company</th>\n",
       "      <th></th>\n",
       "      <th></th>\n",
       "      <th></th>\n",
       "    </tr>\n",
       "  </thead>\n",
       "  <tbody>\n",
       "    <tr>\n",
       "      <th>Twin Lakes Global Advisors</th>\n",
       "      <td>Investment Management</td>\n",
       "      <td>06-01-2012</td>\n",
       "      <td>01-01-2015</td>\n",
       "    </tr>\n",
       "    <tr>\n",
       "      <th>IBM</th>\n",
       "      <td>Information Technology</td>\n",
       "      <td>02-01-2015</td>\n",
       "      <td>05-01-2018</td>\n",
       "    </tr>\n",
       "    <tr>\n",
       "      <th>NYU Stern School of Business</th>\n",
       "      <td>Higher Education</td>\n",
       "      <td>09-01-2019</td>\n",
       "      <td>None</td>\n",
       "    </tr>\n",
       "    <tr>\n",
       "      <th>Revelio Labs</th>\n",
       "      <td>Information Technology</td>\n",
       "      <td>07-01-2018</td>\n",
       "      <td>None</td>\n",
       "    </tr>\n",
       "  </tbody>\n",
       "</table>\n",
       "</div>"
      ],
      "text/plain": [
       "                                            industry   startDate     endDate\n",
       "company                                                                     \n",
       "Twin Lakes Global Advisors     Investment Management  06-01-2012  01-01-2015\n",
       "IBM                           Information Technology  02-01-2015  05-01-2018\n",
       "NYU Stern School of Business        Higher Education  09-01-2019        None\n",
       "Revelio Labs                  Information Technology  07-01-2018        None"
      ]
     },
     "execution_count": 72,
     "metadata": {},
     "output_type": "execute_result"
    }
   ],
   "source": [
    "# Part C:\n",
    "\n",
    "dfr = pd.DataFrame(exp).set_index('company')\n",
    "dfr = dfr.loc[:, ['industry', 'startDate', 'endDate']]\n",
    "dfr"
   ]
  },
  {
   "cell_type": "markdown",
   "metadata": {},
   "source": [
    "## Question 4\n",
    "\n",
    "Next up:  We explore data about the gender ratios in three large companies.\n",
    "\n",
    "Run the code cell below to load the data and use the result to answer these questions:  \n",
    "\n",
    "(a) What type of object is `data`?\n",
    "\n",
    "(b) What are its dimensions?\n",
    "\n",
    "(c) What are its column labels?\n",
    "\n",
    "(d) What dtypes are the columns?   \n",
    "\n",
    "(5 points) "
   ]
  },
  {
   "cell_type": "code",
   "execution_count": 73,
   "metadata": {},
   "outputs": [],
   "source": [
    "data = {'company': ['Alphabet', 'Alphabet', 'Alphabet', 'Alphabet', 'Alphabet',\n",
    "       'Alphabet', 'Alphabet', 'Alphabet', 'Alphabet', 'Alphabet',\n",
    "       'Alphabet', 'Cognizant', 'Cognizant', 'Cognizant', 'Cognizant',\n",
    "       'Cognizant', 'Cognizant', 'Cognizant', 'Cognizant', 'Cognizant',\n",
    "       'Cognizant', 'Cognizant', 'Twitter', 'Twitter', 'Twitter',\n",
    "       'Twitter', 'Twitter', 'Twitter', 'Twitter', 'Twitter', 'Twitter',\n",
    "       'Twitter', 'Twitter'], \n",
    "        'year': ['2008', '2009', '2010', '2011', '2012', '2013', '2014', '2015',\n",
    "       '2016', '2017', '2018', '2008', '2009', '2010', '2011', '2012',\n",
    "       '2013', '2014', '2015', '2016', '2017', '2018', '2008', '2009',\n",
    "       '2010', '2011', '2012', '2013', '2014', '2015', '2016', '2017',\n",
    "       '2018'], \n",
    "        'employees': [177445, 180913, 191435, 205113, 216191, 228393, 241491, 252979,\n",
    "       267678, 279556, 294649,  99199, 110557, 130286, 152470, 165198,\n",
    "       173583, 194450, 196452, 203694, 200836, 201203,   6024,   6266,\n",
    "         6678,   7453,   8581,   9978,  11234,  12113,  12947,  13702,\n",
    "        14706],\n",
    "        'percent_female':[0.40417666, 0.40440278, 0.40279166, 0.40024836, 0.39654314,\n",
    "       0.3949993 , 0.39434753, 0.39361924, 0.39368898, 0.39477959,\n",
    "       0.3967329 , 0.36162872, 0.35713005, 0.35387964, 0.35134587,\n",
    "       0.34925482, 0.34822058, 0.34636688, 0.34558532, 0.34232604,\n",
    "       0.3428627 , 0.34409326, 0.40017225, 0.40079759, 0.40146484,\n",
    "       0.39570063, 0.39042919, 0.37963677, 0.38592692, 0.40255898,\n",
    "       0.41963995, 0.42678222, 0.42782283]}\n",
    "df = pd.DataFrame(data) "
   ]
  },
  {
   "cell_type": "markdown",
   "metadata": {},
   "source": [
    "(a) Dictionary\n",
    "\n",
    "(b) The length is 4\n",
    "\n",
    "(c) 'company', 'year', 'employees', and 'percent_female'\n",
    "\n",
    "(d) Lists"
   ]
  },
  {
   "cell_type": "code",
   "execution_count": 89,
   "metadata": {},
   "outputs": [
    {
     "data": {
      "text/html": [
       "<div>\n",
       "<style scoped>\n",
       "    .dataframe tbody tr th:only-of-type {\n",
       "        vertical-align: middle;\n",
       "    }\n",
       "\n",
       "    .dataframe tbody tr th {\n",
       "        vertical-align: top;\n",
       "    }\n",
       "\n",
       "    .dataframe thead th {\n",
       "        text-align: right;\n",
       "    }\n",
       "</style>\n",
       "<table border=\"1\" class=\"dataframe\">\n",
       "  <thead>\n",
       "    <tr style=\"text-align: right;\">\n",
       "      <th></th>\n",
       "      <th>company</th>\n",
       "      <th>year</th>\n",
       "      <th>employees</th>\n",
       "      <th>percent_female</th>\n",
       "    </tr>\n",
       "  </thead>\n",
       "  <tbody>\n",
       "    <tr>\n",
       "      <th>0</th>\n",
       "      <td>Alphabet</td>\n",
       "      <td>2008</td>\n",
       "      <td>177445</td>\n",
       "      <td>0.404177</td>\n",
       "    </tr>\n",
       "    <tr>\n",
       "      <th>1</th>\n",
       "      <td>Alphabet</td>\n",
       "      <td>2009</td>\n",
       "      <td>180913</td>\n",
       "      <td>0.404403</td>\n",
       "    </tr>\n",
       "    <tr>\n",
       "      <th>2</th>\n",
       "      <td>Alphabet</td>\n",
       "      <td>2010</td>\n",
       "      <td>191435</td>\n",
       "      <td>0.402792</td>\n",
       "    </tr>\n",
       "    <tr>\n",
       "      <th>3</th>\n",
       "      <td>Alphabet</td>\n",
       "      <td>2011</td>\n",
       "      <td>205113</td>\n",
       "      <td>0.400248</td>\n",
       "    </tr>\n",
       "    <tr>\n",
       "      <th>4</th>\n",
       "      <td>Alphabet</td>\n",
       "      <td>2012</td>\n",
       "      <td>216191</td>\n",
       "      <td>0.396543</td>\n",
       "    </tr>\n",
       "    <tr>\n",
       "      <th>5</th>\n",
       "      <td>Alphabet</td>\n",
       "      <td>2013</td>\n",
       "      <td>228393</td>\n",
       "      <td>0.394999</td>\n",
       "    </tr>\n",
       "    <tr>\n",
       "      <th>6</th>\n",
       "      <td>Alphabet</td>\n",
       "      <td>2014</td>\n",
       "      <td>241491</td>\n",
       "      <td>0.394348</td>\n",
       "    </tr>\n",
       "    <tr>\n",
       "      <th>7</th>\n",
       "      <td>Alphabet</td>\n",
       "      <td>2015</td>\n",
       "      <td>252979</td>\n",
       "      <td>0.393619</td>\n",
       "    </tr>\n",
       "    <tr>\n",
       "      <th>8</th>\n",
       "      <td>Alphabet</td>\n",
       "      <td>2016</td>\n",
       "      <td>267678</td>\n",
       "      <td>0.393689</td>\n",
       "    </tr>\n",
       "    <tr>\n",
       "      <th>9</th>\n",
       "      <td>Alphabet</td>\n",
       "      <td>2017</td>\n",
       "      <td>279556</td>\n",
       "      <td>0.394780</td>\n",
       "    </tr>\n",
       "    <tr>\n",
       "      <th>10</th>\n",
       "      <td>Alphabet</td>\n",
       "      <td>2018</td>\n",
       "      <td>294649</td>\n",
       "      <td>0.396733</td>\n",
       "    </tr>\n",
       "    <tr>\n",
       "      <th>11</th>\n",
       "      <td>Cognizant</td>\n",
       "      <td>2008</td>\n",
       "      <td>99199</td>\n",
       "      <td>0.361629</td>\n",
       "    </tr>\n",
       "    <tr>\n",
       "      <th>12</th>\n",
       "      <td>Cognizant</td>\n",
       "      <td>2009</td>\n",
       "      <td>110557</td>\n",
       "      <td>0.357130</td>\n",
       "    </tr>\n",
       "    <tr>\n",
       "      <th>13</th>\n",
       "      <td>Cognizant</td>\n",
       "      <td>2010</td>\n",
       "      <td>130286</td>\n",
       "      <td>0.353880</td>\n",
       "    </tr>\n",
       "    <tr>\n",
       "      <th>14</th>\n",
       "      <td>Cognizant</td>\n",
       "      <td>2011</td>\n",
       "      <td>152470</td>\n",
       "      <td>0.351346</td>\n",
       "    </tr>\n",
       "    <tr>\n",
       "      <th>15</th>\n",
       "      <td>Cognizant</td>\n",
       "      <td>2012</td>\n",
       "      <td>165198</td>\n",
       "      <td>0.349255</td>\n",
       "    </tr>\n",
       "    <tr>\n",
       "      <th>16</th>\n",
       "      <td>Cognizant</td>\n",
       "      <td>2013</td>\n",
       "      <td>173583</td>\n",
       "      <td>0.348221</td>\n",
       "    </tr>\n",
       "    <tr>\n",
       "      <th>17</th>\n",
       "      <td>Cognizant</td>\n",
       "      <td>2014</td>\n",
       "      <td>194450</td>\n",
       "      <td>0.346367</td>\n",
       "    </tr>\n",
       "    <tr>\n",
       "      <th>18</th>\n",
       "      <td>Cognizant</td>\n",
       "      <td>2015</td>\n",
       "      <td>196452</td>\n",
       "      <td>0.345585</td>\n",
       "    </tr>\n",
       "    <tr>\n",
       "      <th>19</th>\n",
       "      <td>Cognizant</td>\n",
       "      <td>2016</td>\n",
       "      <td>203694</td>\n",
       "      <td>0.342326</td>\n",
       "    </tr>\n",
       "    <tr>\n",
       "      <th>20</th>\n",
       "      <td>Cognizant</td>\n",
       "      <td>2017</td>\n",
       "      <td>200836</td>\n",
       "      <td>0.342863</td>\n",
       "    </tr>\n",
       "    <tr>\n",
       "      <th>21</th>\n",
       "      <td>Cognizant</td>\n",
       "      <td>2018</td>\n",
       "      <td>201203</td>\n",
       "      <td>0.344093</td>\n",
       "    </tr>\n",
       "    <tr>\n",
       "      <th>22</th>\n",
       "      <td>Twitter</td>\n",
       "      <td>2008</td>\n",
       "      <td>6024</td>\n",
       "      <td>0.400172</td>\n",
       "    </tr>\n",
       "    <tr>\n",
       "      <th>23</th>\n",
       "      <td>Twitter</td>\n",
       "      <td>2009</td>\n",
       "      <td>6266</td>\n",
       "      <td>0.400798</td>\n",
       "    </tr>\n",
       "    <tr>\n",
       "      <th>24</th>\n",
       "      <td>Twitter</td>\n",
       "      <td>2010</td>\n",
       "      <td>6678</td>\n",
       "      <td>0.401465</td>\n",
       "    </tr>\n",
       "    <tr>\n",
       "      <th>25</th>\n",
       "      <td>Twitter</td>\n",
       "      <td>2011</td>\n",
       "      <td>7453</td>\n",
       "      <td>0.395701</td>\n",
       "    </tr>\n",
       "    <tr>\n",
       "      <th>26</th>\n",
       "      <td>Twitter</td>\n",
       "      <td>2012</td>\n",
       "      <td>8581</td>\n",
       "      <td>0.390429</td>\n",
       "    </tr>\n",
       "    <tr>\n",
       "      <th>27</th>\n",
       "      <td>Twitter</td>\n",
       "      <td>2013</td>\n",
       "      <td>9978</td>\n",
       "      <td>0.379637</td>\n",
       "    </tr>\n",
       "    <tr>\n",
       "      <th>28</th>\n",
       "      <td>Twitter</td>\n",
       "      <td>2014</td>\n",
       "      <td>11234</td>\n",
       "      <td>0.385927</td>\n",
       "    </tr>\n",
       "    <tr>\n",
       "      <th>29</th>\n",
       "      <td>Twitter</td>\n",
       "      <td>2015</td>\n",
       "      <td>12113</td>\n",
       "      <td>0.402559</td>\n",
       "    </tr>\n",
       "    <tr>\n",
       "      <th>30</th>\n",
       "      <td>Twitter</td>\n",
       "      <td>2016</td>\n",
       "      <td>12947</td>\n",
       "      <td>0.419640</td>\n",
       "    </tr>\n",
       "    <tr>\n",
       "      <th>31</th>\n",
       "      <td>Twitter</td>\n",
       "      <td>2017</td>\n",
       "      <td>13702</td>\n",
       "      <td>0.426782</td>\n",
       "    </tr>\n",
       "    <tr>\n",
       "      <th>32</th>\n",
       "      <td>Twitter</td>\n",
       "      <td>2018</td>\n",
       "      <td>14706</td>\n",
       "      <td>0.427823</td>\n",
       "    </tr>\n",
       "  </tbody>\n",
       "</table>\n",
       "</div>"
      ],
      "text/plain": [
       "      company  year  employees  percent_female\n",
       "0    Alphabet  2008     177445        0.404177\n",
       "1    Alphabet  2009     180913        0.404403\n",
       "2    Alphabet  2010     191435        0.402792\n",
       "3    Alphabet  2011     205113        0.400248\n",
       "4    Alphabet  2012     216191        0.396543\n",
       "5    Alphabet  2013     228393        0.394999\n",
       "6    Alphabet  2014     241491        0.394348\n",
       "7    Alphabet  2015     252979        0.393619\n",
       "8    Alphabet  2016     267678        0.393689\n",
       "9    Alphabet  2017     279556        0.394780\n",
       "10   Alphabet  2018     294649        0.396733\n",
       "11  Cognizant  2008      99199        0.361629\n",
       "12  Cognizant  2009     110557        0.357130\n",
       "13  Cognizant  2010     130286        0.353880\n",
       "14  Cognizant  2011     152470        0.351346\n",
       "15  Cognizant  2012     165198        0.349255\n",
       "16  Cognizant  2013     173583        0.348221\n",
       "17  Cognizant  2014     194450        0.346367\n",
       "18  Cognizant  2015     196452        0.345585\n",
       "19  Cognizant  2016     203694        0.342326\n",
       "20  Cognizant  2017     200836        0.342863\n",
       "21  Cognizant  2018     201203        0.344093\n",
       "22    Twitter  2008       6024        0.400172\n",
       "23    Twitter  2009       6266        0.400798\n",
       "24    Twitter  2010       6678        0.401465\n",
       "25    Twitter  2011       7453        0.395701\n",
       "26    Twitter  2012       8581        0.390429\n",
       "27    Twitter  2013       9978        0.379637\n",
       "28    Twitter  2014      11234        0.385927\n",
       "29    Twitter  2015      12113        0.402559\n",
       "30    Twitter  2016      12947        0.419640\n",
       "31    Twitter  2017      13702        0.426782\n",
       "32    Twitter  2018      14706        0.427823"
      ]
     },
     "execution_count": 89,
     "metadata": {},
     "output_type": "execute_result"
    }
   ],
   "source": [
    "df"
   ]
  },
  {
   "cell_type": "markdown",
   "metadata": {},
   "source": [
    "## Question 5\n",
    "\n",
    "Continuing with the same data:  \n",
    "\n",
    "(a) Create a new dataframe called `total` with `year` as the index and `employees` and `percent_female` as the columns. Hint: you will need to use groupby but not right away.\n",
    "\n",
    "(b) Create a bar chart of the percent female variable.\n",
    "\n",
    "(20 points) "
   ]
  },
  {
   "cell_type": "code",
   "execution_count": 107,
   "metadata": {
    "scrolled": false
   },
   "outputs": [
    {
     "data": {
      "text/html": [
       "<div>\n",
       "<style scoped>\n",
       "    .dataframe tbody tr th:only-of-type {\n",
       "        vertical-align: middle;\n",
       "    }\n",
       "\n",
       "    .dataframe tbody tr th {\n",
       "        vertical-align: top;\n",
       "    }\n",
       "\n",
       "    .dataframe thead th {\n",
       "        text-align: right;\n",
       "    }\n",
       "</style>\n",
       "<table border=\"1\" class=\"dataframe\">\n",
       "  <thead>\n",
       "    <tr style=\"text-align: right;\">\n",
       "      <th></th>\n",
       "      <th>employees</th>\n",
       "      <th>percent_female</th>\n",
       "    </tr>\n",
       "    <tr>\n",
       "      <th>year</th>\n",
       "      <th></th>\n",
       "      <th></th>\n",
       "    </tr>\n",
       "  </thead>\n",
       "  <tbody>\n",
       "    <tr>\n",
       "      <th>2008</th>\n",
       "      <td>282668</td>\n",
       "      <td>0.388659</td>\n",
       "    </tr>\n",
       "    <tr>\n",
       "      <th>2009</th>\n",
       "      <td>297736</td>\n",
       "      <td>0.387443</td>\n",
       "    </tr>\n",
       "    <tr>\n",
       "      <th>2010</th>\n",
       "      <td>328399</td>\n",
       "      <td>0.386045</td>\n",
       "    </tr>\n",
       "    <tr>\n",
       "      <th>2011</th>\n",
       "      <td>365036</td>\n",
       "      <td>0.382432</td>\n",
       "    </tr>\n",
       "    <tr>\n",
       "      <th>2012</th>\n",
       "      <td>389970</td>\n",
       "      <td>0.378742</td>\n",
       "    </tr>\n",
       "    <tr>\n",
       "      <th>2013</th>\n",
       "      <td>411954</td>\n",
       "      <td>0.374286</td>\n",
       "    </tr>\n",
       "    <tr>\n",
       "      <th>2014</th>\n",
       "      <td>447175</td>\n",
       "      <td>0.375547</td>\n",
       "    </tr>\n",
       "    <tr>\n",
       "      <th>2015</th>\n",
       "      <td>461544</td>\n",
       "      <td>0.380588</td>\n",
       "    </tr>\n",
       "    <tr>\n",
       "      <th>2016</th>\n",
       "      <td>484319</td>\n",
       "      <td>0.385218</td>\n",
       "    </tr>\n",
       "    <tr>\n",
       "      <th>2017</th>\n",
       "      <td>494094</td>\n",
       "      <td>0.388142</td>\n",
       "    </tr>\n",
       "    <tr>\n",
       "      <th>2018</th>\n",
       "      <td>510558</td>\n",
       "      <td>0.389550</td>\n",
       "    </tr>\n",
       "  </tbody>\n",
       "</table>\n",
       "</div>"
      ],
      "text/plain": [
       "      employees  percent_female\n",
       "year                           \n",
       "2008     282668        0.388659\n",
       "2009     297736        0.387443\n",
       "2010     328399        0.386045\n",
       "2011     365036        0.382432\n",
       "2012     389970        0.378742\n",
       "2013     411954        0.374286\n",
       "2014     447175        0.375547\n",
       "2015     461544        0.380588\n",
       "2016     484319        0.385218\n",
       "2017     494094        0.388142\n",
       "2018     510558        0.389550"
      ]
     },
     "execution_count": 107,
     "metadata": {},
     "output_type": "execute_result"
    }
   ],
   "source": [
    "# Part A:\n",
    "\n",
    "total = df.set_index('year')\n",
    "total = total.loc[:, ['employees', 'percent_female']]\n",
    "total['percent_female'] = total.groupby('year')['percent_female'].mean()\n",
    "total['employees'] = total.groupby('year')['employees'].sum()\n",
    "total = total.iloc[:11, :]\n",
    "total"
   ]
  },
  {
   "cell_type": "code",
   "execution_count": 109,
   "metadata": {},
   "outputs": [
    {
     "data": {
      "text/plain": [
       "<matplotlib.axes._subplots.AxesSubplot at 0x226b9588a20>"
      ]
     },
     "execution_count": 109,
     "metadata": {},
     "output_type": "execute_result"
    },
    {
     "data": {
      "image/png": "[encoded data removed]",
      "text/plain": [
       "<Figure size 720x360 with 1 Axes>"
      ]
     },
     "metadata": {
      "needs_background": "light"
     },
     "output_type": "display_data"
    }
   ],
   "source": [
    "# Part B:\n",
    "\n",
    "total['percent_female'].plot.bar(figsize = (10, 5))"
   ]
  },
  {
   "cell_type": "markdown",
   "metadata": {},
   "source": [
    "## Question 6\n",
    "\n",
    "Still continuing with the same data:  \n",
    "\n",
    "(a) Create figure and axis objects. For this, you will want two side-by-side plots with 1 row and 2 columns. \n",
    "\n",
    "(b) On the left chart, plot the number of employees at each company over time. In the right chart, plot the percent female over time.\n",
    "\n",
    "(c) Change the size of the plot and create titles for each plot to make it look presentable. \n",
    "\n",
    "(d) Change the style to `fivethirtyeight`.\n",
    "\n",
    "(25 points) "
   ]
  },
  {
   "cell_type": "code",
   "execution_count": 148,
   "metadata": {
    "scrolled": true
   },
   "outputs": [
    {
     "data": {
      "image/png": "[encoded data removed]",
      "text/plain": [
       "<Figure size 432x288 with 2 Axes>"
      ]
     },
     "metadata": {
      "needs_background": "light"
     },
     "output_type": "display_data"
    }
   ],
   "source": [
    "# Part A:\n",
    "\n",
    "fig, ax = plt.subplots(nrows = 1, ncols = 2, sharex = True)"
   ]
  },
  {
   "cell_type": "code",
   "execution_count": 149,
   "metadata": {
    "scrolled": true
   },
   "outputs": [
    {
     "data": {
      "text/plain": [
       "<matplotlib.axes._subplots.AxesSubplot at 0x226bd9c54e0>"
      ]
     },
     "execution_count": 149,
     "metadata": {},
     "output_type": "execute_result"
    },
    {
     "data": {
      "image/png": "[encoded data removed]",
      "text/plain": [
       "<Figure size 432x288 with 2 Axes>"
      ]
     },
     "metadata": {
      "needs_background": "light"
     },
     "output_type": "display_data"
    }
   ],
   "source": [
    "# Part B:\n",
    "\n",
    "df_emp = df.loc[:, ['year', 'company', 'employees']]\n",
    "\n",
    "fig, ax = plt.subplots(nrows = 1, ncols = 2, sharex = True)\n",
    "\n",
    "df_emp.plot.bar(ax = ax[0])\n",
    "total['percent_female'].plot.bar(ax = ax[1])"
   ]
  },
  {
   "cell_type": "code",
   "execution_count": 153,
   "metadata": {
    "scrolled": true
   },
   "outputs": [
    {
     "data": {
      "text/plain": [
       "Text(0.5, 1.0, 'Percentage of Female Employees by Year')"
      ]
     },
     "execution_count": 153,
     "metadata": {},
     "output_type": "execute_result"
    },
    {
     "data": {
      "image/png": "[encoded data removed]",
      "text/plain": [
       "<Figure size 1440x504 with 2 Axes>"
      ]
     },
     "metadata": {
      "needs_background": "light"
     },
     "output_type": "display_data"
    }
   ],
   "source": [
    "# Part C:\n",
    "\n",
    "fig, ax = plt.subplots(nrows = 1, ncols = 2, sharex = True, figsize = (20, 7))\n",
    "\n",
    "df_emp.plot.bar(ax = ax[0])\n",
    "total['percent_female'].plot.bar(ax = ax[1])\n",
    "ax[0].set_title(\"Employees per Company by Year\", fontsize = 20)\n",
    "ax[1].set_title(\"Percentage of Female Employees by Year\", fontsize = 20)"
   ]
  },
  {
   "cell_type": "code",
   "execution_count": null,
   "metadata": {},
   "outputs": [],
   "source": []
  },
  {
   "cell_type": "code",
   "execution_count": 154,
   "metadata": {},
   "outputs": [],
   "source": [
    "# Part D:\n",
    "\n",
    "plt.style.use('fivethirtyeight')"
   ]
  },
  {
   "cell_type": "code",
   "execution_count": 155,
   "metadata": {},
   "outputs": [
    {
     "data": {
      "text/plain": [
       "Text(0.5, 1.0, 'Percentage of Female Employees by Year')"
      ]
     },
     "execution_count": 155,
     "metadata": {},
     "output_type": "execute_result"
    },
    {
     "data": {
      "image/png": "[encoded data removed]",
      "text/plain": [
       "<Figure size 1440x504 with 2 Axes>"
      ]
     },
     "metadata": {},
     "output_type": "display_data"
    }
   ],
   "source": [
    "fig, ax = plt.subplots(nrows = 1, ncols = 2, sharex = True, figsize = (20, 7))\n",
    "\n",
    "df_emp.plot.bar(ax = ax[0])\n",
    "total['percent_female'].plot.bar(ax = ax[1])\n",
    "ax[0].set_title(\"Employees per Company by Year\", fontsize = 20)\n",
    "ax[1].set_title(\"Percentage of Female Employees by Year\", fontsize = 20)"
   ]
  },
  {
   "cell_type": "code",
   "execution_count": null,
   "metadata": {},
   "outputs": [],
   "source": []
  }
 ],
 "metadata": {
  "kernelspec": {
   "display_name": "Python 3",
   "language": "python",
   "name": "python3"
  },
  "language_info": {
   "codemirror_mode": {
    "name": "ipython",
    "version": 3
   },
   "file_extension": ".py",
   "mimetype": "text/x-python",
   "name": "python",
   "nbconvert_exporter": "python",
   "pygments_lexer": "ipython3",
   "version": "3.7.3"
  }
 },
 "nbformat": 4,
 "nbformat_minor": 2
}
